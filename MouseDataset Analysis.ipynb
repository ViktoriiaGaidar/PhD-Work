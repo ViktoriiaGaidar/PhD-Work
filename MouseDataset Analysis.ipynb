{
 "cells": [
  {
   "cell_type": "markdown",
   "metadata": {},
   "source": [
    "## First step  is to visualize the ECoG datasets of the Mouse, from .abf files and write it to excel"
   ]
  },
  {
   "cell_type": "code",
   "execution_count": 1,
   "metadata": {},
   "outputs": [
    {
     "name": "stdout",
     "output_type": "stream",
     "text": [
      "Done preparation of .abf\n"
     ]
    }
   ],
   "source": [
    "import pyabf\n",
    "import matplotlib.pyplot as plt\n",
    "import matplotlib.image as mpimg\n",
    "import numpy as np\n",
    "import pandas as pd\n",
    "\n",
    "#List with name of the ECoG files\n",
    "List_of_files = [\"131010_002[1-425]\",\n",
    "                 \"131010_003[1-411]\",\n",
    "                 \"131011_002[1-432]\",\n",
    "                 \"131011_003[1-300]\",\n",
    "                 \"131015_001[1-1324]\",\n",
    "                 \"131018_004[1-375]\",\n",
    "                 \"131024_001.1[1-258]\",\n",
    "                 \"131028_001[1-320]\",\n",
    "                 \"131029_003[1-289]\",\n",
    "                 \"131029_004[1-188]\",\n",
    "                 \"131031_001[1-336]\",\n",
    "                 \"131103_001[1-454]\",\n",
    "                 \"131104_001[1-517]\",\n",
    "                 \"131104_002[1-415]\"                \n",
    "                ]\n",
    "\n",
    "file = [\"131010_002[1-425]\"]\n",
    "\n",
    "#read .abf file and obtain time series information about the dataset\n",
    "def read_abf(abf):\n",
    "    time = np.array([])                        \n",
    "    action_potential = np.array([])\n",
    "    \n",
    "    #print(abf.headerText)\n",
    "    for sweep in  abf.sweepList:                  #sweep - is a time window of the signal                        \n",
    "        abf.setSweep(sweep, absoluteTime = True)\n",
    "        #write the continious file (time)\n",
    "        time = np.concatenate((time,abf.sweepX)) \n",
    "        #write the continious file (potential pA values)\n",
    "        action_potential = np.concatenate((action_potential, abf.sweepY))\n",
    "    return time, action_potential\n",
    "\n",
    "print(\"Done preparation of .abf\")"
   ]
  },
  {
   "cell_type": "markdown",
   "metadata": {},
   "source": [
    "#### Convert .abf to .xlsx"
   ]
  },
  {
   "cell_type": "code",
   "execution_count": null,
   "metadata": {},
   "outputs": [],
   "source": [
    "def convert_abf_to_xls (name_List):\n",
    "    for name in name_List:\n",
    "        abf = pyabf.ABF(name + \".abf\")\n",
    "        print(abf)\n",
    "        dataRate = abf.dataRate\n",
    "        data = read_abf(abf)\n",
    "        print(\"read data\")\n",
    "        #create dataframe with the continious signal\n",
    "        data_set = pd.DataFrame({'time':data[0], 'U,pA':data[1]})\n",
    "        print(\"create data_set\")\n",
    "        #write to excel t and U\n",
    "        data_set.to_excel(name +\".xlsx\", index = False)\n",
    "        print(\"Done file\" + name)\n",
    "        plt.plot(data[0],data[1])\n",
    "        plt.show()\n",
    "        plt.savefig(name+\".png\")\n",
    "        print(\"Image #\" + name + \"is saved\")\n",
    "\n",
    "convert_abf_to_xls(file)\n",
    "print(\"Done convert .abf to .xlsx\")"
   ]
  },
  {
   "cell_type": "markdown",
   "metadata": {},
   "source": [
    "#### Label datasets"
   ]
  },
  {
   "cell_type": "code",
   "execution_count": 38,
   "metadata": {},
   "outputs": [
    {
     "name": "stdout",
     "output_type": "stream",
     "text": [
      "                  names                                    seizure periods\n",
      "0     131010_002[1-425]  [(680, 780), (820, 940), (1000, 1250), (1600, ...\n",
      "1     131010_003[1-411]                                        [(0, 3000)]\n",
      "2     131011_002[1-432]                                       [(700, 740)]\n",
      "3     131011_003[1-300]                                     [(1600, 1720)]\n",
      "4    131015_001[1-1324]  [(4800, 5800), (6600, 7400), (7500, 8500), (90...\n",
      "5     131018_004[1-375]                       [(2200, 2600), (3400, 3550)]\n",
      "6   131024_001.1[1-258]  [(200, 350), (450, 540), (640, 720), (760, 805...\n",
      "7     131028_001[1-320]                                     [(2800, 3200)]\n",
      "8     131029_003[1-289]                                     [(1700, 2100)]\n",
      "9     131029_004[1-188]  [(420, 460), (500, 640), (690, 810), (910, 990...\n",
      "10    131031_001[1-336]  [(1200, 1800), (2000, 2700), (2700, 3100), (31...\n",
      "11    131103_001[1-454]                       [(1220, 1260), (3120, 3160)]\n",
      "12    131104_001[1-517]                                     [(1210, 1250)]\n",
      "13    131104_002[1-415]                       [(2310, 2350), (3650, 3750)]\n",
      "Name of file is 131010_002[1-425]\n",
      "This is time_seizure array\n",
      "[[ 680  780]\n",
      " [ 820  940]\n",
      " [1000 1250]\n",
      " ...\n",
      " [2100 2600]\n",
      " [2650 2850]\n",
      " [2900 3400]]\n",
      "Rows:8 and columns: 2\n",
      "Label vector is created !\n",
      "Created labeled data_set\n",
      "Done file131010_002[1-425]\n",
      "Wrote the labeled dataset. Done!\n"
     ]
    }
   ],
   "source": [
    "import numpy as np\n",
    "import pandas as pd\n",
    "import pyabf \n",
    "\n",
    "\n",
    "name = [\"131010_002[1-425]\"]\n",
    "\n",
    "\n",
    "List_of_files = [\"131010_002[1-425]\",\n",
    "                 \"131010_003[1-411]\",\n",
    "                 \"131011_002[1-432]\",\n",
    "                 \"131011_003[1-300]\",\n",
    "                 \"131015_001[1-1324]\",\n",
    "                 \"131018_004[1-375]\",\n",
    "                 \"131024_001.1[1-258]\",\n",
    "                 \"131028_001[1-320]\",\n",
    "                 \"131029_003[1-289]\",\n",
    "                 \"131029_004[1-188]\",\n",
    "                 \"131031_001[1-336]\",\n",
    "                 \"131103_001[1-454]\",\n",
    "                 \"131104_001[1-517]\",\n",
    "                 \"131104_002[1-415]\"                \n",
    "                ]\n",
    "\n",
    "Time_of_seizures = [\n",
    "                    [(680,780), (820,940), (1000, 1250), (1600,1680), (1890,2050),(2100,2600),(2650,2850),(2900,3400)],\n",
    "                    [(0,3000)],\n",
    "                    [(700,740)],\n",
    "                    [(1600,1720)],\n",
    "                    [(4800,5800), (6600,7400), (7500,8500), (9000,9500),(9600,10200)],\n",
    "                    [(2200,2600), (3400,3550)],\n",
    "                    [(200,350), (450,540), (640,720),(760,805),(850,1100),(1200,2500)],\n",
    "                    [(2800,3200)],\n",
    "                    [(1700,2100)],\n",
    "                    [(420,460),(500,640),(690,810),(910,990),(1050,1300),(1600,1850)],\n",
    "                    [(1200,1800),(2000,2700),(2700,3100),(3150,3350)],\n",
    "                    [(1220,1260),(3120,3160)],\n",
    "                    [(1210,1250)],\n",
    "                    [(2310,2350),(3650,3750)]                   \n",
    "]\n",
    "\n",
    "Seizure_data_frame = pd.DataFrame({\"names\":List_of_files , \"seizure periods\": Time_of_seizures})\n",
    "print(Seizure_data_frame)\n",
    "\n",
    "name = [\"131010_002[1-425]\"]\n",
    "\n",
    "#Labels dataset when the seizures occured in different point of time (0 - no seizure, 1 - seizure)\n",
    "def create_label_vector (file_name, seizure_data_frame, time_step, t):\n",
    "    for n in range(len(seizure_data_frame[\"names\"])):              #number of files in dataframe\n",
    "        if seizure_data_frame.iloc[n,0] == file_name:              #find the specific file name\n",
    "            print(\"Name of file is \" + file_name)\n",
    "            seizures_time = seizure_data_frame.iloc[n,1]           #for file_name read the array with time points of seizures      \n",
    "            temp_vect = np.array(seizures_time)                #put it in numpy array\n",
    "            #temp_vect = seizures_time.flatten()                    #concatanate this array\n",
    "            print(\"This is time_seizure array\")\n",
    "            print(temp_vect)\n",
    "            n_row = len(temp_vect); n_col = len(temp_vect[0])      #number of rows and col of this array\n",
    "            print(\"Rows:\" + str(n_row) + \" and columns: \"+str(n_col))\n",
    "            labeled_data = np.zeros(len(t))\n",
    "            for i in range(n_row):\n",
    "                start_index = int(round(temp_vect[i,0]/time_step))\n",
    "                end_index = int(round(temp_vect[i,1]/time_step))\n",
    "                labeled_data[start_index:end_index] = 1\n",
    "            print(\"Label vector is created !\")\n",
    "    return labeled_data\n",
    "\n",
    "def write_label_data_to_xls (name, time, u_signal, labels):\n",
    "        data_set = pd.DataFrame({\"time\":time, \"U,pA\":u_signal, \"labels\": labels})\n",
    "        print(\"Created labeled data_set\")\n",
    "        #write to excel t, U and labels\n",
    "        data_set.to_excel(name +\"_labeled.xlsx\", index = False)\n",
    "        print(\"Done file\" + name)\n",
    "        \n",
    "for n in name:\n",
    "    abf = pyabf.ABF(n + \".abf\")\n",
    "    sampleRate = abf.dataRate\n",
    "    time_step = round((1/sampleRate), 4)\n",
    "    data_set = read_abf(abf)\n",
    "    t = data_set[0]; u = data_set[1]\n",
    "    labels = create_label_vector(n, Seizure_data_frame,time_step, t)\n",
    "    write_label_data_to_xls(n,t,u,labels)\n",
    "    print(\"Wrote the labeled dataset. Done!\")\n",
    "\n"
   ]
  },
  {
   "cell_type": "code",
   "execution_count": 39,
   "metadata": {},
   "outputs": [
    {
     "name": "stdout",
     "output_type": "stream",
     "text": [
      "['Hellolabeled.xlsx', 'worldlabeled.xlsx', 'tolabeled.xlsx', 'Youlabeled.xlsx']\n"
     ]
    }
   ],
   "source": [
    "List_of_names = [\"Hello\", \"world\", \"to\", \"You\"]\n",
    "\n",
    "for i in range(len(List_of_names)):\n",
    "    List_of_names[i] += \"labeled.xlsx\"\n",
    "\n",
    "print(List_of_names)"
   ]
  },
  {
   "cell_type": "markdown",
   "metadata": {},
   "source": [
    "## Second step. Open excel file and do Preprocessing"
   ]
  },
  {
   "cell_type": "code",
   "execution_count": 19,
   "metadata": {},
   "outputs": [
    {
     "data": {
      "image/png": "[encoded data removed]",
      "text/plain": [
       "<Figure size 432x288 with 1 Axes>"
      ]
     },
     "metadata": {
      "needs_background": "light"
     },
     "output_type": "display_data"
    },
    {
     "name": "stdout",
     "output_type": "stream",
     "text": [
      "Plot std t and u \n",
      "[0.00000000e+00 2.40384615e-03 4.80769231e-03 ... 2.52060577e+03\n",
      " 2.52060817e+03 2.52061058e+03]\n",
      "[-0.23089323 -0.23089323 -0.15733812 ... -0.11530663 -0.11005269\n",
      " -0.14683025]\n"
     ]
    },
    {
     "data": {
      "image/png": "[encoded data removed]",
      "text/plain": [
       "<Figure size 432x288 with 1 Axes>"
      ]
     },
     "metadata": {
      "needs_background": "light"
     },
     "output_type": "display_data"
    }
   ],
   "source": [
    "from IPython.core.debugger import set_trace #debugger for jupyter notebook\n",
    "import pandas as pd \n",
    "import numpy as np\n",
    "import matplotlib.pyplot as plt\n",
    "import scipy\n",
    "from sklearn import preprocessing\n",
    "\n",
    "List_of_files = [\"131010_002[1-425]\",\n",
    "                 \"131010_003[1-411]\",\n",
    "                 \"131011_002[1-432]\",\n",
    "                 \"131011_003[1-300]\",\n",
    "                 \"131015_001[1-1324]\",\n",
    "                 \"131018_004[1-375]\",\n",
    "                 \"131024_001.1[1-258]\",\n",
    "                 \"131028_001[1-320]\",\n",
    "                 \"131029_003[1-289]\",\n",
    "                 \"131029_004[1-188]\",\n",
    "                 \"131031_001[1-336]\",\n",
    "                 \"131103_001[1-454]\",\n",
    "                 \"131104_001[1-517]\",\n",
    "                 \"131104_002[1-415]\"                \n",
    "                ]\n",
    "\n",
    "New_labeled_list =[]\n",
    "\n",
    "files_list = [\"temp\"]\n",
    "\n",
    "file_name = \"131010_002[1-425]_labeled.xlsx\"\n",
    "temp_file = \"temp.xlsx\"\n",
    "'''\n",
    "for name in List_of_files:\n",
    "    name = file + \"_labeled.xlsx\"\n",
    "    \n",
    "def open_excel (file_name):\n",
    "                print(\"Start to read files\")\n",
    "                file = pd.read_excel(file_name)\n",
    "                data = np.asarray(file)\n",
    "                print(\"Read excel file\")\n",
    "                return data\n",
    "\n",
    "def plot_data(t_,u_, title):\n",
    "                plt.title(title)\n",
    "                plt.plot(t_,u_)\n",
    "                plt.xlabel(\"time, s\")\n",
    "                plt.ylabel(\"Action potential, pA\")\n",
    "                plt.show()\n",
    "                \n",
    "\n",
    "#data_set = open_excel(file_name) #numpy_array\n",
    "data_set = open_excel(file_name) #numpy_array\n",
    "'''\n",
    "#function that remove all missing values and replace it with mean values\n",
    "def check_missing_values(data_set, col2use):\n",
    "    for n_of_col in col2use:\n",
    "        x_mean = np.mean(data_set[:,n_of_col])\n",
    "        data_set[:,n_of_col] = data_set[:,n_of_col].fillna(x_mean)\n",
    "    return data_set\n",
    "\n",
    "# a function for standartize data set\n",
    "def preprocess_dataset(data_set):\n",
    "    t = data_set[:,0]\n",
    "    u = data_set[:,1]\n",
    "    plot_data(t,u,\"Raw data set here\")\n",
    "    \n",
    "    # remove mean and scaling to unit variance\n",
    "    #x_std = (x-x_mean)/standart deviation, if (x_1,x_2,x_3, ...)\n",
    "    # scaled_data_set = StandardScaler().fit_transform(data_set)\n",
    "    t_std = t\n",
    "    u_std =  preprocessing.scale(u)\n",
    "    print(\"Plot std t and u \")\n",
    "    print(t_std)\n",
    "    print(u_std)\n",
    "    plot_data(t_std, u_std, \"Standartized dataset\")\n",
    "    return t_std, u_std\n",
    "\n",
    "#data_set = check_missing_values(data_set)\n",
    "pr_data_set = preprocess_dataset(data_set)\n",
    "\n"
   ]
  },
  {
   "cell_type": "markdown",
   "metadata": {},
   "source": [
    "   ## Step three. Data Analysis. Feature extraction"
   ]
  },
  {
   "cell_type": "code",
   "execution_count": 22,
   "metadata": {},
   "outputs": [
    {
     "name": "stdout",
     "output_type": "stream",
     "text": [
      "<class 'tuple'>\n"
     ]
    },
    {
     "data": {
      "image/png": "[encoded data removed]",
      "text/plain": [
       "<Figure size 432x288 with 1 Axes>"
      ]
     },
     "metadata": {
      "needs_background": "light"
     },
     "output_type": "display_data"
    }
   ],
   "source": [
    "import pywt\n",
    "import pywt.data\n",
    "import numpy as np\n",
    "import matplotlib.pyplot as plt\n",
    "\n",
    "t_pr = pr_data_set[0]\n",
    "u_pr = pr_data_set[1]\n",
    "plot_data(t_pr,u_pr, \"Original Signal\")\n",
    "data_u = u_pr\n"
   ]
  },
  {
   "cell_type": "markdown",
   "metadata": {},
   "source": [
    "### Features Extraction"
   ]
  },
  {
   "cell_type": "code",
   "execution_count": 2,
   "metadata": {},
   "outputs": [],
   "source": [
    "import numpy as np\n",
    "import scipy.stats\n",
    "import numpy as np\n",
    "from matplotlib import pyplot as plt\n",
    "#time-series analysis of data from neuroscience experiments\n",
    "#http://nipy.org/nitime/\n",
    "#from nitime import utils\n",
    "#from nitime import algorithms as alg\n",
    "#from nitime.timeseries import TimeSeries\n",
    "#from nitime.viz import plot_tseries\n",
    "#https://python-scripts.com/import-csv-python\n",
    "import csv \n",
    "import pywt\n",
    "import scipy.stats as sp\n",
    "from spectrum import *\n",
    "from os import listdir\n",
    "from os.path import isfile, join\n",
    "\n",
    "\n",
    "feature_names = [\"Activity\", \"Mobility\", \"complexity\", \"Kurtosis\", \"2nd DiffMean, 2ndDiffMin\",\n",
    "                \"CoeffOfVariation\", \"Skewness\", \"WvMean\", \"WvStdDeviation\", \"WvApprEnergy\", \n",
    "                 \"FFTPowerDelta\", \"FFTPowerTheta\", \"FFTPowerAlpha\", \"FFTPowerBeta\"]"
   ]
  },
  {
   "cell_type": "markdown",
   "metadata": {},
   "source": [
    "#### I. Hjorth Parameters"
   ]
  },
  {
   "cell_type": "code",
   "execution_count": null,
   "metadata": {},
   "outputs": [],
   "source": [
    "#https://en.wikipedia.org/wiki/Hjorth_parameters\n",
    "#main formulas of Hjorth parameters\n",
    "\n",
    "def hjorth(data_u):\n",
    "    u_input = data_u\n",
    "    hjorth_activity = np.zeros(len(u_input))\n",
    "    hjorth_mobility = np.zeros(len(u_input))\n",
    "    hjorth_diffmobility = np.zeros(len(u_input))\n",
    "    hjorth_complexity = np.zeros(len(u_input))\n",
    "  \n",
    "    diff_u_input = np.diff(u_input) #x[n+1] - x[n]\n",
    "    k=0\n",
    "    \n",
    "    for x in u_input:\n",
    "        hjorth_activity[k] = np.var(x) #var = mean(abs(x - x.mean())**2)\n",
    "        hjorth_mobility[k] = np.sqrt(np.var(diff_u_input[k])/hjorth_activity[k])\n",
    "        hjorth_diffmobility[k] = np.sqrt(np.var(diff_u_input[k])/np.var(diff_u_input))\n",
    "        hjorth_complexity[k] = hjorth_diffmobility[k]/hjorth_mobility[k]\n",
    "        k=k+1\n",
    "    return np.sum()"
   ]
  },
  {
   "cell_type": "markdown",
   "metadata": {},
   "source": [
    "### Time-frequency domain (Discrete Wavelet Transform)"
   ]
  },
  {
   "cell_type": "code",
   "execution_count": 3,
   "metadata": {},
   "outputs": [],
   "source": [
    "\n",
    "\n",
    "# -------------- Time domain ----------------# \n",
    "def mean_signal(t, u_x, e):\n",
    "    return np.mean(u_x)\n",
    "\n",
    "def std_signal(t, u_x, e):\n",
    "    return np.std(u_x)\n",
    "\n",
    "def mean_square_signal(t, u_x, e):\n",
    "    return np.mean(u_x ** 2)\n",
    "\n",
    "def abs_diffs_signal(t, u_x, e):\n",
    "    return np.sum(np.abs(np.diff(u_x)))\n",
    "\n",
    "def skew_signal(t, u_x, e):\n",
    "    return scipy.stats.skew(u_x)\n",
    "\n",
    "# -------------- Frequency domain ----------------#\n",
    "#band power - average power of a signal in a specific frequency range\n"
   ]
  },
  {
   "cell_type": "code",
   "execution_count": null,
   "metadata": {},
   "outputs": [],
   "source": []
  },
  {
   "cell_type": "code",
   "execution_count": null,
   "metadata": {},
   "outputs": [],
   "source": []
  }
 ],
 "metadata": {
  "kernelspec": {
   "display_name": "Python 3",
   "language": "python",
   "name": "python3"
  },
  "language_info": {
   "codemirror_mode": {
    "name": "ipython",
    "version": 3
   },
   "file_extension": ".py",
   "mimetype": "text/x-python",
   "name": "python",
   "nbconvert_exporter": "python",
   "pygments_lexer": "ipython3",
   "version": "3.7.3"
  }
 },
 "nbformat": 4,
 "nbformat_minor": 2
}
